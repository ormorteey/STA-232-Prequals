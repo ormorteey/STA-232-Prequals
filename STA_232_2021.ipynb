{
  "nbformat": 4,
  "nbformat_minor": 0,
  "metadata": {
    "colab": {
      "name": "STA 232 2021.ipynb",
      "provenance": [],
      "authorship_tag": "ABX9TyPx4IdQ0BHwvDE1MR3XOm7z",
      "include_colab_link": true
    },
    "kernelspec": {
      "display_name": "R",
      "name": "ir"
    },
    "language_info": {
      "name": "R"
    }
  },
  "cells": [
    {
      "cell_type": "markdown",
      "metadata": {
        "id": "view-in-github",
        "colab_type": "text"
      },
      "source": [
        "<a href=\"https://colab.research.google.com/github/ormorteey/STA-232-Prequals/blob/main/STA_232_2021.ipynb\" target=\"_parent\"><img src=\"https://colab.research.google.com/assets/colab-badge.svg\" alt=\"Open In Colab\"/></a>"
      ]
    },
    {
      "cell_type": "code",
      "metadata": {
        "id": "osSmwORtN5yx"
      },
      "source": [
        "rm(list = ls())"
      ],
      "execution_count": null,
      "outputs": []
    },
    {
      "cell_type": "code",
      "metadata": {
        "colab": {
          "base_uri": "https://localhost:8080/"
        },
        "id": "mZQ1znIlSahz",
        "outputId": "2491ef6d-ef86-4c36-a841-d5e3849a2de8"
      },
      "source": [
        "install.packages(\"pacman\")\n",
        "library(pacman)"
      ],
      "execution_count": null,
      "outputs": [
        {
          "output_type": "stream",
          "name": "stderr",
          "text": [
            "Installing package into ‘/usr/local/lib/R/site-library’\n",
            "(as ‘lib’ is unspecified)\n",
            "\n"
          ]
        }
      ]
    },
    {
      "cell_type": "code",
      "metadata": {
        "id": "ILxFQB8HWxqL"
      },
      "source": [
        "p_load(tidyverse, lme4, googledrive)"
      ],
      "execution_count": null,
      "outputs": []
    },
    {
      "cell_type": "code",
      "metadata": {
        "colab": {
          "base_uri": "https://localhost:8080/"
        },
        "id": "NORMInUPXBr3",
        "outputId": "327b4beb-070b-4305-f4d9-8c07843f2c99"
      },
      "source": [
        "drive_deauth()\n",
        "drive_user()\n",
        "public_file = drive_get(as_id(\"1fm15wxA4Hl2xNsRw6jKE3dQbqqYoOB7f\"))\n",
        "le_inf0 = 1:nrow(public_file) %>% map(~drive_download(public_file[.,], overwrite = TRUE))"
      ],
      "execution_count": null,
      "outputs": [
        {
          "output_type": "stream",
          "name": "stderr",
          "text": [
            "\u001b[36mℹ\u001b[39m Not logged in as any specific Google user.\n",
            "\n",
            "File downloaded:\n",
            "\n",
            "• \u001b[36m\u001b[36mlong_dat.csv\u001b[36m\u001b[39m \u001b[90m<id: 1fm15wxA4Hl2xNsRw6jKE3dQbqqYoOB7f>\u001b[39m\n",
            "\n",
            "Saved locally as:\n",
            "\n",
            "• \u001b[34m\u001b[34mlong_dat.csv\u001b[34m\u001b[39m\n",
            "\n"
          ]
        }
      ]
    },
    {
      "cell_type": "code",
      "metadata": {
        "colab": {
          "base_uri": "https://localhost:8080/",
          "height": 283
        },
        "id": "psnddRVWYovR",
        "outputId": "79e2a590-a5dc-4d84-acb6-cc0b76d3f6d4"
      },
      "source": [
        "election_df = read.csv(\"long_dat.csv\", header = T)\n",
        "data_df = election_df %>% select(c(\"cycle\", \"state\", \"candidate\", \"logp\"))\n",
        "head(data_df)"
      ],
      "execution_count": null,
      "outputs": [
        {
          "output_type": "display_data",
          "data": {
            "text/plain": [
              "  cycle state   candidate logp       \n",
              "1 2016  Alabama 1         -0.53088991\n",
              "2 2016  Alabama 1          0.10110730\n",
              "3 2016  Alabama 1          0.04546237\n",
              "4 2016  Alaska  1          0.25009936\n",
              "5 2016  Alaska  1         -0.45460369\n",
              "6 2016  Alaska  1          0.11352383"
            ],
            "text/latex": "A data.frame: 6 × 4\n\\begin{tabular}{r|llll}\n  & cycle & state & candidate & logp\\\\\n  & <int> & <chr> & <int> & <dbl>\\\\\n\\hline\n\t1 & 2016 & Alabama & 1 & -0.53088991\\\\\n\t2 & 2016 & Alabama & 1 &  0.10110730\\\\\n\t3 & 2016 & Alabama & 1 &  0.04546237\\\\\n\t4 & 2016 & Alaska  & 1 &  0.25009936\\\\\n\t5 & 2016 & Alaska  & 1 & -0.45460369\\\\\n\t6 & 2016 & Alaska  & 1 &  0.11352383\\\\\n\\end{tabular}\n",
            "text/markdown": "\nA data.frame: 6 × 4\n\n| <!--/--> | cycle &lt;int&gt; | state &lt;chr&gt; | candidate &lt;int&gt; | logp &lt;dbl&gt; |\n|---|---|---|---|---|\n| 1 | 2016 | Alabama | 1 | -0.53088991 |\n| 2 | 2016 | Alabama | 1 |  0.10110730 |\n| 3 | 2016 | Alabama | 1 |  0.04546237 |\n| 4 | 2016 | Alaska  | 1 |  0.25009936 |\n| 5 | 2016 | Alaska  | 1 | -0.45460369 |\n| 6 | 2016 | Alaska  | 1 |  0.11352383 |\n\n",
            "text/html": [
              "<table class=\"dataframe\">\n",
              "<caption>A data.frame: 6 × 4</caption>\n",
              "<thead>\n",
              "\t<tr><th></th><th scope=col>cycle</th><th scope=col>state</th><th scope=col>candidate</th><th scope=col>logp</th></tr>\n",
              "\t<tr><th></th><th scope=col>&lt;int&gt;</th><th scope=col>&lt;chr&gt;</th><th scope=col>&lt;int&gt;</th><th scope=col>&lt;dbl&gt;</th></tr>\n",
              "</thead>\n",
              "<tbody>\n",
              "\t<tr><th scope=row>1</th><td>2016</td><td>Alabama</td><td>1</td><td>-0.53088991</td></tr>\n",
              "\t<tr><th scope=row>2</th><td>2016</td><td>Alabama</td><td>1</td><td> 0.10110730</td></tr>\n",
              "\t<tr><th scope=row>3</th><td>2016</td><td>Alabama</td><td>1</td><td> 0.04546237</td></tr>\n",
              "\t<tr><th scope=row>4</th><td>2016</td><td>Alaska </td><td>1</td><td> 0.25009936</td></tr>\n",
              "\t<tr><th scope=row>5</th><td>2016</td><td>Alaska </td><td>1</td><td>-0.45460369</td></tr>\n",
              "\t<tr><th scope=row>6</th><td>2016</td><td>Alaska </td><td>1</td><td> 0.11352383</td></tr>\n",
              "</tbody>\n",
              "</table>\n"
            ]
          },
          "metadata": {}
        }
      ]
    },
    {
      "cell_type": "code",
      "metadata": {
        "id": "_ZHPraZMfSdN"
      },
      "source": [
        "data_df$candidate = factor(data_df$candidate)\n",
        "levels(data_df$candidate) = c(\"0\",\"1\")\n",
        "data_df$cycle = factor(data_df$cycle)\n",
        "levels(data_df$cycle) = c(\"0\",\"1\")\n",
        "data_df$state = factor(data_df$state)\n"
      ],
      "execution_count": null,
      "outputs": []
    },
    {
      "cell_type": "code",
      "metadata": {
        "colab": {
          "base_uri": "https://localhost:8080/",
          "height": 283
        },
        "id": "En4MH3EZhVR2",
        "outputId": "147500ba-b676-4568-a84e-71de3d84cc49"
      },
      "source": [
        "data_df$ran_var = 1:nrow(data_df)\n",
        "for(i in 1:nrow(data_df)){\n",
        "data_df$ran_var[i] = paste0(data_df$state[i],data_df$candidate[i] )\n",
        "}\n",
        "head(data_df)"
      ],
      "execution_count": null,
      "outputs": [
        {
          "output_type": "display_data",
          "data": {
            "text/plain": [
              "  cycle state   candidate logp        ran_var \n",
              "1 0     Alabama 0         -0.53088991 Alabama0\n",
              "2 0     Alabama 0          0.10110730 Alabama0\n",
              "3 0     Alabama 0          0.04546237 Alabama0\n",
              "4 0     Alaska  0          0.25009936 Alaska0 \n",
              "5 0     Alaska  0         -0.45460369 Alaska0 \n",
              "6 0     Alaska  0          0.11352383 Alaska0 "
            ],
            "text/latex": "A data.frame: 6 × 5\n\\begin{tabular}{r|lllll}\n  & cycle & state & candidate & logp & ran\\_var\\\\\n  & <fct> & <fct> & <fct> & <dbl> & <chr>\\\\\n\\hline\n\t1 & 0 & Alabama & 0 & -0.53088991 & Alabama0\\\\\n\t2 & 0 & Alabama & 0 &  0.10110730 & Alabama0\\\\\n\t3 & 0 & Alabama & 0 &  0.04546237 & Alabama0\\\\\n\t4 & 0 & Alaska  & 0 &  0.25009936 & Alaska0 \\\\\n\t5 & 0 & Alaska  & 0 & -0.45460369 & Alaska0 \\\\\n\t6 & 0 & Alaska  & 0 &  0.11352383 & Alaska0 \\\\\n\\end{tabular}\n",
            "text/markdown": "\nA data.frame: 6 × 5\n\n| <!--/--> | cycle &lt;fct&gt; | state &lt;fct&gt; | candidate &lt;fct&gt; | logp &lt;dbl&gt; | ran_var &lt;chr&gt; |\n|---|---|---|---|---|---|\n| 1 | 0 | Alabama | 0 | -0.53088991 | Alabama0 |\n| 2 | 0 | Alabama | 0 |  0.10110730 | Alabama0 |\n| 3 | 0 | Alabama | 0 |  0.04546237 | Alabama0 |\n| 4 | 0 | Alaska  | 0 |  0.25009936 | Alaska0  |\n| 5 | 0 | Alaska  | 0 | -0.45460369 | Alaska0  |\n| 6 | 0 | Alaska  | 0 |  0.11352383 | Alaska0  |\n\n",
            "text/html": [
              "<table class=\"dataframe\">\n",
              "<caption>A data.frame: 6 × 5</caption>\n",
              "<thead>\n",
              "\t<tr><th></th><th scope=col>cycle</th><th scope=col>state</th><th scope=col>candidate</th><th scope=col>logp</th><th scope=col>ran_var</th></tr>\n",
              "\t<tr><th></th><th scope=col>&lt;fct&gt;</th><th scope=col>&lt;fct&gt;</th><th scope=col>&lt;fct&gt;</th><th scope=col>&lt;dbl&gt;</th><th scope=col>&lt;chr&gt;</th></tr>\n",
              "</thead>\n",
              "<tbody>\n",
              "\t<tr><th scope=row>1</th><td>0</td><td>Alabama</td><td>0</td><td>-0.53088991</td><td>Alabama0</td></tr>\n",
              "\t<tr><th scope=row>2</th><td>0</td><td>Alabama</td><td>0</td><td> 0.10110730</td><td>Alabama0</td></tr>\n",
              "\t<tr><th scope=row>3</th><td>0</td><td>Alabama</td><td>0</td><td> 0.04546237</td><td>Alabama0</td></tr>\n",
              "\t<tr><th scope=row>4</th><td>0</td><td>Alaska </td><td>0</td><td> 0.25009936</td><td>Alaska0 </td></tr>\n",
              "\t<tr><th scope=row>5</th><td>0</td><td>Alaska </td><td>0</td><td>-0.45460369</td><td>Alaska0 </td></tr>\n",
              "\t<tr><th scope=row>6</th><td>0</td><td>Alaska </td><td>0</td><td> 0.11352383</td><td>Alaska0 </td></tr>\n",
              "</tbody>\n",
              "</table>\n"
            ]
          },
          "metadata": {}
        }
      ]
    },
    {
      "cell_type": "code",
      "metadata": {
        "id": "osI18YQudlgV",
        "colab": {
          "base_uri": "https://localhost:8080/",
          "height": 493
        },
        "outputId": "77bfd4f7-0c65-47e6-b918-a98d14a06f0c"
      },
      "source": [
        "model_1 = lmer(logp ~ candidate + cycle + candidate:cycle + (1 | ran_var), data_df)\n",
        "summary(model_1)"
      ],
      "execution_count": null,
      "outputs": [
        {
          "output_type": "display_data",
          "data": {
            "text/plain": [
              "Linear mixed model fit by REML ['lmerMod']\n",
              "Formula: logp ~ candidate + cycle + candidate:cycle + (1 | ran_var)\n",
              "   Data: data_df\n",
              "\n",
              "REML criterion at convergence: -3307.6\n",
              "\n",
              "Scaled residuals: \n",
              "    Min      1Q  Median      3Q     Max \n",
              "-6.6992 -0.4271  0.0986  0.5596  7.8295 \n",
              "\n",
              "Random effects:\n",
              " Groups   Name        Variance Std.Dev.\n",
              " ran_var  (Intercept) 0.004932 0.07023 \n",
              " Residual             0.006716 0.08195 \n",
              "Number of obs: 1648, groups:  ran_var, 102\n",
              "\n",
              "Fixed effects:\n",
              "                   Estimate Std. Error t value\n",
              "(Intercept)       -0.054452   0.010840  -5.023\n",
              "candidate1        -0.082099   0.015330  -5.356\n",
              "cycle1             0.071667   0.005975  11.995\n",
              "candidate1:cycle1 -0.018251   0.008450  -2.160\n",
              "\n",
              "Correlation of Fixed Effects:\n",
              "            (Intr) cnddt1 cycle1\n",
              "candidate1  -0.707              \n",
              "cycle1      -0.243  0.172       \n",
              "cnddt1:cyc1  0.172 -0.243 -0.707"
            ]
          },
          "metadata": {}
        }
      ]
    },
    {
      "cell_type": "code",
      "metadata": {
        "colab": {
          "base_uri": "https://localhost:8080/",
          "height": 51
        },
        "id": "7jUcc-8lRT2B",
        "outputId": "6498d8a0-3422-4891-e267-56d3ed8eac6d"
      },
      "source": [
        "EBLUP = predict(model_1)\n",
        "head(EBLUP)"
      ],
      "execution_count": null,
      "outputs": [
        {
          "output_type": "display_data",
          "data": {
            "text/plain": [
              "          1           2           3           4           5           6 \n",
              "-0.06248920 -0.06248920 -0.06248920 -0.06007228 -0.06007228 -0.06007228 "
            ],
            "text/latex": "\\begin{description*}\n\\item[1] -0.0624892025532619\n\\item[2] -0.0624892025532619\n\\item[3] -0.0624892025532619\n\\item[4] -0.0600722818239678\n\\item[5] -0.0600722818239678\n\\item[6] -0.0600722818239678\n\\end{description*}\n",
            "text/markdown": "1\n:   -0.06248920255326192\n:   -0.06248920255326193\n:   -0.06248920255326194\n:   -0.06007228182396785\n:   -0.06007228182396786\n:   -0.0600722818239678\n\n",
            "text/html": [
              "<style>\n",
              ".dl-inline {width: auto; margin:0; padding: 0}\n",
              ".dl-inline>dt, .dl-inline>dd {float: none; width: auto; display: inline-block}\n",
              ".dl-inline>dt::after {content: \":\\0020\"; padding-right: .5ex}\n",
              ".dl-inline>dt:not(:first-of-type) {padding-left: .5ex}\n",
              "</style><dl class=dl-inline><dt>1</dt><dd>-0.0624892025532619</dd><dt>2</dt><dd>-0.0624892025532619</dd><dt>3</dt><dd>-0.0624892025532619</dd><dt>4</dt><dd>-0.0600722818239678</dd><dt>5</dt><dd>-0.0600722818239678</dd><dt>6</dt><dd>-0.0600722818239678</dd></dl>\n"
            ]
          },
          "metadata": {}
        }
      ]
    },
    {
      "cell_type": "code",
      "metadata": {
        "colab": {
          "base_uri": "https://localhost:8080/",
          "height": 283
        },
        "id": "s-vSw80MTnhS",
        "outputId": "a0462bba-ba02-4ec0-9bc1-9d0811cebb14"
      },
      "source": [
        "head(as.data.frame(ranef(model_1)))"
      ],
      "execution_count": null,
      "outputs": [
        {
          "output_type": "display_data",
          "data": {
            "text/plain": [
              "  grpvar  term        grp      condval      condsd    \n",
              "1 ran_var (Intercept) Alabama0 -0.008036842 0.02678396\n",
              "2 ran_var (Intercept) Alabama1  0.011288350 0.02678396\n",
              "3 ran_var (Intercept) Alaska0  -0.005619922 0.02545874\n",
              "4 ran_var (Intercept) Alaska1  -0.001219731 0.02545874\n",
              "5 ran_var (Intercept) Arizona0 -0.018151705 0.01259119\n",
              "6 ran_var (Intercept) Arizona1  0.020251993 0.01259119"
            ],
            "text/latex": "A data.frame: 6 × 5\n\\begin{tabular}{r|lllll}\n  & grpvar & term & grp & condval & condsd\\\\\n  & <chr> & <fct> & <fct> & <dbl> & <dbl>\\\\\n\\hline\n\t1 & ran\\_var & (Intercept) & Alabama0 & -0.008036842 & 0.02678396\\\\\n\t2 & ran\\_var & (Intercept) & Alabama1 &  0.011288350 & 0.02678396\\\\\n\t3 & ran\\_var & (Intercept) & Alaska0  & -0.005619922 & 0.02545874\\\\\n\t4 & ran\\_var & (Intercept) & Alaska1  & -0.001219731 & 0.02545874\\\\\n\t5 & ran\\_var & (Intercept) & Arizona0 & -0.018151705 & 0.01259119\\\\\n\t6 & ran\\_var & (Intercept) & Arizona1 &  0.020251993 & 0.01259119\\\\\n\\end{tabular}\n",
            "text/markdown": "\nA data.frame: 6 × 5\n\n| <!--/--> | grpvar &lt;chr&gt; | term &lt;fct&gt; | grp &lt;fct&gt; | condval &lt;dbl&gt; | condsd &lt;dbl&gt; |\n|---|---|---|---|---|---|\n| 1 | ran_var | (Intercept) | Alabama0 | -0.008036842 | 0.02678396 |\n| 2 | ran_var | (Intercept) | Alabama1 |  0.011288350 | 0.02678396 |\n| 3 | ran_var | (Intercept) | Alaska0  | -0.005619922 | 0.02545874 |\n| 4 | ran_var | (Intercept) | Alaska1  | -0.001219731 | 0.02545874 |\n| 5 | ran_var | (Intercept) | Arizona0 | -0.018151705 | 0.01259119 |\n| 6 | ran_var | (Intercept) | Arizona1 |  0.020251993 | 0.01259119 |\n\n",
            "text/html": [
              "<table class=\"dataframe\">\n",
              "<caption>A data.frame: 6 × 5</caption>\n",
              "<thead>\n",
              "\t<tr><th></th><th scope=col>grpvar</th><th scope=col>term</th><th scope=col>grp</th><th scope=col>condval</th><th scope=col>condsd</th></tr>\n",
              "\t<tr><th></th><th scope=col>&lt;chr&gt;</th><th scope=col>&lt;fct&gt;</th><th scope=col>&lt;fct&gt;</th><th scope=col>&lt;dbl&gt;</th><th scope=col>&lt;dbl&gt;</th></tr>\n",
              "</thead>\n",
              "<tbody>\n",
              "\t<tr><th scope=row>1</th><td>ran_var</td><td>(Intercept)</td><td>Alabama0</td><td>-0.008036842</td><td>0.02678396</td></tr>\n",
              "\t<tr><th scope=row>2</th><td>ran_var</td><td>(Intercept)</td><td>Alabama1</td><td> 0.011288350</td><td>0.02678396</td></tr>\n",
              "\t<tr><th scope=row>3</th><td>ran_var</td><td>(Intercept)</td><td>Alaska0 </td><td>-0.005619922</td><td>0.02545874</td></tr>\n",
              "\t<tr><th scope=row>4</th><td>ran_var</td><td>(Intercept)</td><td>Alaska1 </td><td>-0.001219731</td><td>0.02545874</td></tr>\n",
              "\t<tr><th scope=row>5</th><td>ran_var</td><td>(Intercept)</td><td>Arizona0</td><td>-0.018151705</td><td>0.01259119</td></tr>\n",
              "\t<tr><th scope=row>6</th><td>ran_var</td><td>(Intercept)</td><td>Arizona1</td><td> 0.020251993</td><td>0.01259119</td></tr>\n",
              "</tbody>\n",
              "</table>\n"
            ]
          },
          "metadata": {}
        }
      ]
    },
    {
      "cell_type": "code",
      "metadata": {
        "id": "Z-EwX0tWbF6Y"
      },
      "source": [
        "mySumm <- function(mod) {\n",
        "   c(sigma_e = sigma(mod), sigma_r = sqrt(unlist(VarCorr(mod))))\n",
        "}\n",
        "booted_lamb_fitted <- bootMer(model_1, mySumm, nsim = 100, seed = 2047)"
      ],
      "execution_count": null,
      "outputs": []
    },
    {
      "cell_type": "code",
      "metadata": {
        "colab": {
          "base_uri": "https://localhost:8080/",
          "height": 221
        },
        "id": "s6FPwN-ibMf7",
        "outputId": "34732d6d-ca94-4d6a-f3f7-b6c89d4c9631"
      },
      "source": [
        "library(boot) # for nice print-out\n",
        "booted_lamb_fitted"
      ],
      "execution_count": null,
      "outputs": [
        {
          "output_type": "display_data",
          "data": {
            "text/plain": [
              "\n",
              "PARAMETRIC BOOTSTRAP\n",
              "\n",
              "\n",
              "Call:\n",
              "bootMer(x = model_1, FUN = mySumm, nsim = 100, seed = 2047)\n",
              "\n",
              "\n",
              "Bootstrap Statistics :\n",
              "      original        bias    std. error\n",
              "t1* 0.08195094  4.984615e-05 0.001343312\n",
              "t2* 0.07022657 -3.549436e-04 0.005372882"
            ]
          },
          "metadata": {}
        }
      ]
    }
  ]
}